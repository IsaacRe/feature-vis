{
 "cells": [
  {
   "cell_type": "code",
   "execution_count": 1,
   "metadata": {},
   "outputs": [],
   "source": [
    "import torch\n",
    "import torch.nn as nn\n",
    "import torchvision\n",
    "from torchvision import transforms\n",
    "from torch.utils.data.dataloader import DataLoader\n",
    "import numpy as np\n",
    "from torchvision.models import resnet18"
   ]
  },
  {
   "cell_type": "markdown",
   "metadata": {},
   "source": [
    "## Download Data and Pretrained Weights"
   ]
  },
  {
   "cell_type": "code",
   "execution_count": 2,
   "metadata": {},
   "outputs": [],
   "source": [
    "net = resnet18(pretrained=True)"
   ]
  },
  {
   "cell_type": "code",
   "execution_count": 3,
   "metadata": {},
   "outputs": [],
   "source": [
    "from torchvision.datasets import CIFAR10"
   ]
  },
  {
   "cell_type": "code",
   "execution_count": 4,
   "metadata": {},
   "outputs": [
    {
     "name": "stdout",
     "output_type": "stream",
     "text": [
      "Files already downloaded and verified\n"
     ]
    }
   ],
   "source": [
    "cif = CIFAR10('.', download=True, transform=transforms.Compose([transforms.Resize((224, 224)), transforms.ToTensor()]))\n",
    "dl = DataLoader(cif)"
   ]
  },
  {
   "cell_type": "code",
   "execution_count": 5,
   "metadata": {},
   "outputs": [],
   "source": [
    "# test network pipeline\n",
    "for x, y in dl:   \n",
    "    net(x)\n",
    "    break"
   ]
  },
  {
   "cell_type": "code",
   "execution_count": 6,
   "metadata": {},
   "outputs": [
    {
     "data": {
      "text/plain": [
       "torch.Size([1, 3, 224, 224])"
      ]
     },
     "execution_count": 6,
     "metadata": {},
     "output_type": "execute_result"
    }
   ],
   "source": [
    "x.shape"
   ]
  },
  {
   "cell_type": "markdown",
   "metadata": {},
   "source": [
    "## Visualization Pipeline"
   ]
  },
  {
   "cell_type": "code",
   "execution_count": 7,
   "metadata": {},
   "outputs": [],
   "source": [
    "from visualize_feature import visualize_feats\n",
    "import matplotlib.pyplot as plt\n",
    "%matplotlib inline"
   ]
  },
  {
   "cell_type": "code",
   "execution_count": 8,
   "metadata": {},
   "outputs": [],
   "source": [
    "modules = [('layer4', 0)]\n",
    "input_args = {'shape': (1, 3, 224, 224)}"
   ]
  },
  {
   "cell_type": "code",
   "execution_count": 9,
   "metadata": {},
   "outputs": [
    {
     "ename": "ValueError",
     "evalue": "Too many dimensions: 3 > 2.",
     "output_type": "error",
     "traceback": [
      "\u001b[0;31m---------------------------------------------------------------------------\u001b[0m",
      "\u001b[0;31mValueError\u001b[0m                                Traceback (most recent call last)",
      "\u001b[0;32m<ipython-input-9-1092db89af51>\u001b[0m in \u001b[0;36m<module>\u001b[0;34m()\u001b[0m\n\u001b[0;32m----> 1\u001b[0;31m \u001b[0mimgs\u001b[0m \u001b[0;34m=\u001b[0m \u001b[0mvisualize_feats\u001b[0m\u001b[0;34m(\u001b[0m\u001b[0mnet\u001b[0m\u001b[0;34m,\u001b[0m \u001b[0;34m*\u001b[0m\u001b[0mmodules\u001b[0m\u001b[0;34m,\u001b[0m \u001b[0mnum_updates\u001b[0m\u001b[0;34m=\u001b[0m\u001b[0;36m1\u001b[0m\u001b[0;34m,\u001b[0m \u001b[0;34m**\u001b[0m\u001b[0minput_args\u001b[0m\u001b[0;34m)\u001b[0m\u001b[0;34m\u001b[0m\u001b[0m\n\u001b[0m",
      "\u001b[0;32m/floyd/home/visualize_feature.py\u001b[0m in \u001b[0;36mvisualize_feats\u001b[0;34m(network, num_updates, lr, *features, **input_args)\u001b[0m\n\u001b[1;32m     74\u001b[0m         \u001b[0minp\u001b[0m \u001b[0;34m=\u001b[0m \u001b[0moptim\u001b[0m\u001b[0;34m.\u001b[0m\u001b[0moptimize\u001b[0m\u001b[0;34m(\u001b[0m\u001b[0mnum_updates\u001b[0m\u001b[0;34m,\u001b[0m \u001b[0mlr\u001b[0m\u001b[0;34m)\u001b[0m\u001b[0;34m\u001b[0m\u001b[0m\n\u001b[1;32m     75\u001b[0m         \u001b[0;31m# return the image\u001b[0m\u001b[0;34m\u001b[0m\u001b[0;34m\u001b[0m\u001b[0m\n\u001b[0;32m---> 76\u001b[0;31m         \u001b[0mimages\u001b[0m \u001b[0;34m+=\u001b[0m \u001b[0minput2image\u001b[0m\u001b[0;34m(\u001b[0m\u001b[0minp\u001b[0m\u001b[0;34m)\u001b[0m\u001b[0;34m\u001b[0m\u001b[0m\n\u001b[0m\u001b[1;32m     77\u001b[0m     \u001b[0;32mreturn\u001b[0m \u001b[0mimages\u001b[0m\u001b[0;34m\u001b[0m\u001b[0m\n\u001b[1;32m     78\u001b[0m \u001b[0;34m\u001b[0m\u001b[0m\n",
      "\u001b[0;32m/floyd/home/visualize_feature.py\u001b[0m in \u001b[0;36minput2image\u001b[0;34m(img)\u001b[0m\n\u001b[1;32m      7\u001b[0m     \u001b[0mimg\u001b[0m \u001b[0;34m-=\u001b[0m \u001b[0mimg\u001b[0m\u001b[0;34m.\u001b[0m\u001b[0mmin\u001b[0m\u001b[0;34m(\u001b[0m\u001b[0;34m)\u001b[0m\u001b[0;34m\u001b[0m\u001b[0m\n\u001b[1;32m      8\u001b[0m     \u001b[0mimg\u001b[0m \u001b[0;34m*=\u001b[0m \u001b[0;36m255.\u001b[0m \u001b[0;34m/\u001b[0m \u001b[0;34m(\u001b[0m\u001b[0mimg\u001b[0m\u001b[0;34m.\u001b[0m\u001b[0mmax\u001b[0m\u001b[0;34m(\u001b[0m\u001b[0;34m)\u001b[0m \u001b[0;34m-\u001b[0m \u001b[0mimg\u001b[0m\u001b[0;34m.\u001b[0m\u001b[0mmin\u001b[0m\u001b[0;34m(\u001b[0m\u001b[0;34m)\u001b[0m\u001b[0;34m)\u001b[0m\u001b[0;34m\u001b[0m\u001b[0m\n\u001b[0;32m----> 9\u001b[0;31m     \u001b[0;32mreturn\u001b[0m \u001b[0mImage\u001b[0m\u001b[0;34m.\u001b[0m\u001b[0mfromarray\u001b[0m\u001b[0;34m(\u001b[0m\u001b[0mimg\u001b[0m\u001b[0;34m.\u001b[0m\u001b[0mastype\u001b[0m\u001b[0;34m(\u001b[0m\u001b[0mint\u001b[0m\u001b[0;34m)\u001b[0m\u001b[0;34m,\u001b[0m \u001b[0;34m'L'\u001b[0m\u001b[0;34m)\u001b[0m\u001b[0;34m\u001b[0m\u001b[0m\n\u001b[0m\u001b[1;32m     10\u001b[0m \u001b[0;34m\u001b[0m\u001b[0m\n\u001b[1;32m     11\u001b[0m \u001b[0;34m\u001b[0m\u001b[0m\n",
      "\u001b[0;32m/usr/local/lib/python3.6/site-packages/PIL/Image.py\u001b[0m in \u001b[0;36mfromarray\u001b[0;34m(obj, mode)\u001b[0m\n\u001b[1;32m   2471\u001b[0m         \u001b[0mndmax\u001b[0m \u001b[0;34m=\u001b[0m \u001b[0;36m4\u001b[0m\u001b[0;34m\u001b[0m\u001b[0m\n\u001b[1;32m   2472\u001b[0m     \u001b[0;32mif\u001b[0m \u001b[0mndim\u001b[0m \u001b[0;34m>\u001b[0m \u001b[0mndmax\u001b[0m\u001b[0;34m:\u001b[0m\u001b[0;34m\u001b[0m\u001b[0m\n\u001b[0;32m-> 2473\u001b[0;31m         \u001b[0;32mraise\u001b[0m \u001b[0mValueError\u001b[0m\u001b[0;34m(\u001b[0m\u001b[0;34m\"Too many dimensions: %d > %d.\"\u001b[0m \u001b[0;34m%\u001b[0m \u001b[0;34m(\u001b[0m\u001b[0mndim\u001b[0m\u001b[0;34m,\u001b[0m \u001b[0mndmax\u001b[0m\u001b[0;34m)\u001b[0m\u001b[0;34m)\u001b[0m\u001b[0;34m\u001b[0m\u001b[0m\n\u001b[0m\u001b[1;32m   2474\u001b[0m \u001b[0;34m\u001b[0m\u001b[0m\n\u001b[1;32m   2475\u001b[0m     \u001b[0msize\u001b[0m \u001b[0;34m=\u001b[0m \u001b[0mshape\u001b[0m\u001b[0;34m[\u001b[0m\u001b[0;36m1\u001b[0m\u001b[0;34m]\u001b[0m\u001b[0;34m,\u001b[0m \u001b[0mshape\u001b[0m\u001b[0;34m[\u001b[0m\u001b[0;36m0\u001b[0m\u001b[0;34m]\u001b[0m\u001b[0;34m\u001b[0m\u001b[0m\n",
      "\u001b[0;31mValueError\u001b[0m: Too many dimensions: 3 > 2."
     ]
    }
   ],
   "source": [
    "imgs = visualize_feats(net, *modules, num_updates=1, **input_args)"
   ]
  },
  {
   "cell_type": "code",
   "execution_count": 10,
   "metadata": {},
   "outputs": [],
   "source": [
    "from visualize_feature import InputOptimizer\n",
    "inpopt = InputOptimizer(None, (1, 3, 224, 224), -1.0, 1.0)"
   ]
  },
  {
   "cell_type": "code",
   "execution_count": 12,
   "metadata": {},
   "outputs": [],
   "source": [
    "rand_inp = inpopt._random_input()"
   ]
  },
  {
   "cell_type": "code",
   "execution_count": 13,
   "metadata": {},
   "outputs": [
    {
     "data": {
      "text/plain": [
       "tensor([[[[ 7.1191e-01, -4.2220e-01,  6.8434e-01,  ...,  8.0793e-01,\n",
       "           -8.7538e-01,  6.3234e-02],\n",
       "          [-2.0383e-01, -4.4825e-01,  2.6398e-02,  ..., -3.7541e-01,\n",
       "           -3.8618e-01,  3.9126e-01],\n",
       "          [-1.2458e-01,  1.5779e-01, -9.2306e-01,  ...,  5.6013e-02,\n",
       "            2.5133e-01, -9.2479e-01],\n",
       "          ...,\n",
       "          [-7.1287e-01,  6.6691e-01,  1.1989e-01,  ...,  8.7140e-01,\n",
       "            2.4641e-01,  3.4119e-01],\n",
       "          [ 7.1168e-01,  6.2305e-01, -6.5067e-01,  ...,  9.4101e-01,\n",
       "            1.4871e-01, -4.6589e-01],\n",
       "          [ 6.5651e-01, -4.2035e-01, -8.5154e-01,  ..., -2.8733e-01,\n",
       "            6.1462e-01, -4.1284e-01]],\n",
       "\n",
       "         [[-2.0758e-01, -5.7112e-01,  5.9778e-01,  ...,  5.1396e-01,\n",
       "           -8.2715e-01, -9.9032e-01],\n",
       "          [ 1.3298e-01,  6.3986e-01, -5.9811e-01,  ..., -3.6895e-01,\n",
       "           -6.1628e-01, -1.4478e-01],\n",
       "          [-1.0403e-01, -5.2085e-01, -8.9522e-01,  ..., -8.4554e-01,\n",
       "            1.6304e-01, -8.7285e-01],\n",
       "          ...,\n",
       "          [-4.0733e-01,  9.9596e-01,  8.2981e-01,  ...,  5.8473e-01,\n",
       "           -7.5784e-01, -3.9528e-01],\n",
       "          [ 3.5992e-01,  1.6553e-01, -7.4829e-01,  ..., -2.3347e-01,\n",
       "            9.5466e-01,  9.3289e-01],\n",
       "          [ 7.2076e-01, -5.7686e-01,  9.7278e-01,  ..., -6.5548e-01,\n",
       "            6.8988e-01, -9.8747e-01]],\n",
       "\n",
       "         [[ 7.4493e-01,  8.2722e-01,  6.4053e-02,  ...,  6.2595e-01,\n",
       "           -9.4305e-01, -3.0326e-01],\n",
       "          [ 8.4723e-01,  4.4214e-02,  7.6264e-01,  ..., -9.5620e-01,\n",
       "           -9.1335e-01,  2.4765e-01],\n",
       "          [-8.2654e-01,  3.1318e-01, -3.8565e-01,  ...,  7.7405e-02,\n",
       "            3.5121e-01, -9.7985e-01],\n",
       "          ...,\n",
       "          [-7.5022e-01, -4.9946e-02, -1.8927e-01,  ...,  1.1603e-01,\n",
       "           -6.0241e-01,  5.5127e-01],\n",
       "          [ 7.8098e-01,  7.5579e-01,  5.1745e-01,  ...,  8.9997e-02,\n",
       "           -9.3100e-01, -4.7496e-01],\n",
       "          [ 8.7574e-01, -6.2908e-02,  4.2200e-01,  ..., -2.5054e-01,\n",
       "           -5.8008e-01, -8.8105e-01]]]], requires_grad=True)"
      ]
     },
     "execution_count": 13,
     "metadata": {},
     "output_type": "execute_result"
    }
   ],
   "source": [
    "rand_inp"
   ]
  },
  {
   "cell_type": "code",
   "execution_count": 16,
   "metadata": {},
   "outputs": [],
   "source": [
    "rand_inp = rand_inp.data.cpu().numpy()"
   ]
  },
  {
   "cell_type": "code",
   "execution_count": 17,
   "metadata": {},
   "outputs": [],
   "source": [
    "rand_inp = rand_inp.squeeze()"
   ]
  },
  {
   "cell_type": "code",
   "execution_count": 24,
   "metadata": {},
   "outputs": [],
   "source": [
    "rand_inp -= rand_inp.min(axis=(1,2))[:, None, None]"
   ]
  },
  {
   "cell_type": "code",
   "execution_count": 25,
   "metadata": {},
   "outputs": [],
   "source": [
    "rand_inp *= 255. / rand_inp.max(axis=(1,2))[:, None, None]"
   ]
  },
  {
   "cell_type": "code",
   "execution_count": 26,
   "metadata": {},
   "outputs": [
    {
     "data": {
      "text/plain": [
       "array([[[218.27548  ,  73.67101  , 214.75996  , ..., 230.51814  ,\n",
       "          15.889099 , 135.56621  ],\n",
       "        [101.51428  ,  70.34941  , 130.86942  , ...,  79.63676  ,\n",
       "          78.26343  , 177.39142  ],\n",
       "        [111.61932  , 147.62259  ,   9.809849 , ..., 134.64548  ,\n",
       "         159.54988  ,   9.588914 ],\n",
       "        ...,\n",
       "        [ 36.609367 , 212.53743  , 142.79031  , ..., 238.61133  ,\n",
       "         158.92133  , 171.0063   ],\n",
       "        [218.24612  , 206.9452   ,  44.539883 , ..., 247.48615  ,\n",
       "         146.46503  ,  68.100395 ],\n",
       "        [211.21187  ,  73.90754  ,  18.928226 , ...,  90.86755  ,\n",
       "         205.87003  ,  74.86421  ]],\n",
       "\n",
       "       [[101.03495  ,  54.681976 , 203.72055  , ..., 193.03418  ,\n",
       "          22.037733 ,   1.2321112],\n",
       "        [144.45775  , 209.08665  ,  51.24109  , ...,  80.45938  ,\n",
       "          48.924416 , 109.041595 ],\n",
       "        [114.23796  ,  61.091465 ,  13.358433 , ...,  19.69254  ,\n",
       "         148.28952  ,  16.210192 ],\n",
       "        ...,\n",
       "        [ 75.5657   , 254.4899   , 233.30627  , ..., 202.05682  ,\n",
       "          30.874949 ,  77.102425 ],\n",
       "        [173.39279  , 148.60715  ,  32.091686 , ...,  97.73421  ,\n",
       "         249.22423  , 246.44856  ],\n",
       "        [219.40137  ,  53.95     , 251.53453  , ...,  43.926075 ,\n",
       "         215.46425  ,   1.5960813]],\n",
       "\n",
       "       [[222.4806   , 232.97304  , 135.66626  , ..., 207.31009  ,\n",
       "           7.2574563,  88.83212  ],\n",
       "        [235.52415  , 133.1368   , 224.73816  , ...,   5.580508 ,\n",
       "          11.043508 , 159.07542  ],\n",
       "        [ 22.113045 , 167.43112  ,  78.32723  , ..., 137.36873  ,\n",
       "         172.27917  ,   2.5649314],\n",
       "        ...,\n",
       "        [ 31.843885 , 121.13105  , 103.36708  , ..., 142.29329  ,\n",
       "          50.689423 , 197.78778  ],\n",
       "        [227.0772   , 223.86469  , 193.47557  , ..., 138.97426  ,\n",
       "           8.7935505,  66.94066  ],\n",
       "        [239.15929  , 119.478325 , 181.30574  , ...,  95.55513  ,\n",
       "          53.537262 ,  15.161952 ]]], dtype=float32)"
      ]
     },
     "execution_count": 26,
     "metadata": {},
     "output_type": "execute_result"
    }
   ],
   "source": [
    "rand_inp"
   ]
  }
 ],
 "metadata": {
  "kernelspec": {
   "display_name": "Python 3",
   "language": "python",
   "name": "python3"
  },
  "language_info": {
   "codemirror_mode": {
    "name": "ipython",
    "version": 3
   },
   "file_extension": ".py",
   "mimetype": "text/x-python",
   "name": "python",
   "nbconvert_exporter": "python",
   "pygments_lexer": "ipython3",
   "version": "3.6.5"
  }
 },
 "nbformat": 4,
 "nbformat_minor": 2
}
